{
 "cells": [
  {
   "cell_type": "markdown",
   "id": "aa0fa568-411f-478f-993e-90f3fbd19711",
   "metadata": {},
   "source": [
    "# Data Science Tools and Ecosystem\n",
    "\n",
    "In this notebook, Data Science Tools and Ecosystem are summarized."
   ]
  },
  {
   "cell_type": "markdown",
   "id": "5e36a95f-9a35-4c81-bbbf-71450b04fb39",
   "metadata": {},
   "source": [
    "**Objectives:**\n",
    "* List popular languages for Data Science\n",
    "* List commonly used libraries used by Data Scientists\n",
    "* Evaluating arithmetic expressions in Python"
   ]
  },
  {
   "cell_type": "markdown",
   "id": "5a7202e6-ab10-416f-9a1d-58a8dcddc2e4",
   "metadata": {},
   "source": [
    "Some of the popular languages that Data Scientists use are:\n",
    "1. Python\n",
    "2. R\n",
    "3. SQL\n",
    "4. Java"
   ]
  },
  {
   "cell_type": "markdown",
   "id": "928f0ca9-4dea-481a-aa63-09d344929314",
   "metadata": {},
   "source": [
    "Some of the commonly used libraries used by Data Scientists include:\n",
    "* Numpy\n",
    "* Pandas\n",
    "* scikit-learn\n"
   ]
  },
  {
   "cell_type": "markdown",
   "id": "7f1964a5-0e3f-468a-ae8c-b5a898c806e5",
   "metadata": {},
   "source": [
    "| Data Science Tools |\n",
    "|----------------|\n",
    "| Jupyter Notebook |\n",
    "| RStudio |\n",
    "| Google Colab |\n"
   ]
  },
  {
   "cell_type": "markdown",
   "id": "90fcf8da-89c2-48a3-940a-ecdc1444de70",
   "metadata": {},
   "source": [
    "### Below are a few examples of evaluating arithmetic expressions in Python.\n"
   ]
  },
  {
   "cell_type": "code",
   "execution_count": 7,
   "id": "3fae9f5f-ed1b-4f8c-b5c3-f8617473979d",
   "metadata": {},
   "outputs": [
    {
     "data": {
      "text/plain": [
       "17"
      ]
     },
     "execution_count": 7,
     "metadata": {},
     "output_type": "execute_result"
    }
   ],
   "source": [
    "#This a simple arithmetic expression to mutiply then add integers\n",
    "\n",
    "(3*4)+5"
   ]
  },
  {
   "cell_type": "code",
   "execution_count": 8,
   "id": "50f57f62-39eb-4d4b-9d9c-64383c7b4d9a",
   "metadata": {},
   "outputs": [
    {
     "data": {
      "text/plain": [
       "3.3333333333333335"
      ]
     },
     "execution_count": 8,
     "metadata": {},
     "output_type": "execute_result"
    }
   ],
   "source": [
    "# This will convert 200 minutes to hours by diving by 60\n",
    "\n",
    "200/60"
   ]
  },
  {
   "cell_type": "markdown",
   "id": "948e8efe-b90a-45f0-a2bb-153d5b3694bd",
   "metadata": {},
   "source": [
    "## Author\n",
    "James Sun"
   ]
  },
  {
   "cell_type": "code",
   "execution_count": null,
   "id": "b03f6835-f591-4e5c-ad8a-70c3c1e010c2",
   "metadata": {},
   "outputs": [],
   "source": []
  },
  {
   "cell_type": "code",
   "execution_count": null,
   "id": "ef4806ca-8177-45dc-9fd2-239f7517ec31",
   "metadata": {},
   "outputs": [],
   "source": []
  },
  {
   "cell_type": "code",
   "execution_count": null,
   "id": "f4f27bb0-43e5-4f1f-b8c1-7a3c3fd8fe5d",
   "metadata": {},
   "outputs": [],
   "source": []
  }
 ],
 "metadata": {
  "kernelspec": {
   "display_name": "Python 3 (ipykernel)",
   "language": "python",
   "name": "python3"
  },
  "language_info": {
   "codemirror_mode": {
    "name": "ipython",
    "version": 3
   },
   "file_extension": ".py",
   "mimetype": "text/x-python",
   "name": "python",
   "nbconvert_exporter": "python",
   "pygments_lexer": "ipython3",
   "version": "3.11.0"
  }
 },
 "nbformat": 4,
 "nbformat_minor": 5
}
